{
 "cells": [
  {
   "cell_type": "markdown",
   "metadata": {},
   "source": [
    "# Splitting data\n",
    " \n",
    "\n",
    "Very important step before training a model as you don't want to overfit the model to your data (i.e. that it can predict well on the data it has seen but cannot generalize well to new unseen data).  \n",
    "\n",
    "Split into train and test size - common is 80/20 but depends on that data \n",
    "include random state if you want the results to be the same every time. Range from 0.2 - 0.3 or in more rare cases 0.4.  \n",
    "\n",
    "Random state is used here to ensure the same results each time, feel free to remove. If you do want to use random state, a common number to use is 42. \n",
    "\n",
    "\n",
    "\n"
   ]
  },
  {
   "cell_type": "code",
   "execution_count": 2,
   "metadata": {},
   "outputs": [],
   "source": [
    "## ------- Import libraries and data ------- ##\n",
    "\n",
    "import pandas as pd\n",
    "from sklearn.model_selection import train_test_split\n",
    "\n",
    "lst = [['France', 44, 72000, 'No'], \n",
    "       ['Spain', 27, 54000, 'Yes'],\n",
    "       ['Germany', 30, 54000, 'No'],\n",
    "       ['Spain', 38, 61000, 'No'],\n",
    "       ['Germany', 40, 63777.78, 'Yes'],\n",
    "       ['France', 35, 58000, 'Yes'],\n",
    "       ['Spain',38.77 , 28000, 'No'],\n",
    "       ['France', 48,798000, 'Yes'],\n",
    "       ['Germany', 50, 83000, 'No'],\n",
    "       ['France', 35, 58000, 'Yes']] \n",
    "\n",
    "df = pd.DataFrame(lst, columns =['Country', 'Age', 'Salary', 'Purchased'])\n",
    "\n",
    "# set X as all independent variables\n",
    "X = df.iloc[:,:-1].values\n",
    "\n",
    "# set y as dependent variable\n",
    "y = df.iloc[:,-1].values\n",
    "\n",
    "\n",
    "## ------- Splitting into Training and Test set ------- ##\n",
    "\n",
    "# random_state is set to ensure that same outcome each time. Would work fine without this\n",
    "X_train, X_test, y_train, y_test = train_test_split(X, y, test_size = 0.20, random_state = 0)"
   ]
  }
 ],
 "metadata": {
  "kernelspec": {
   "display_name": "Python 3",
   "language": "python",
   "name": "python3"
  },
  "language_info": {
   "codemirror_mode": {
    "name": "ipython",
    "version": 3
   },
   "file_extension": ".py",
   "mimetype": "text/x-python",
   "name": "python",
   "nbconvert_exporter": "python",
   "pygments_lexer": "ipython3",
   "version": "3.7.4"
  }
 },
 "nbformat": 4,
 "nbformat_minor": 2
}
