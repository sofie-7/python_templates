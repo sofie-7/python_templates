{
 "cells": [
  {
   "cell_type": "markdown",
   "metadata": {},
   "source": [
    "# Categorical encoding\n",
    "\n",
    "Encode categorical data into numeric data for use in models.  \n",
    "For data that is relational (i.e. small, medium, large), feel free to encode using a xx method.  \n",
    "Ensure that if the data is not relational, that you use one hot encoding. This is because ML models are based on equations and if your data is not related, it could introduce bias. Take for example countries, if you encode France = 1, Spain = 2, Germany = 3, the model may interpret that Germany has a higher score than Spain or France.   \n"
   ]
  },
  {
   "cell_type": "code",
   "execution_count": null,
   "metadata": {},
   "outputs": [],
   "source": [
    "## ------- Import libraries and data ------- ##\n",
    "\n",
    "import pandas as pd\n",
    "from sklearn.preprocessing import LabelEncoder, OneHotEncoder\n",
    "from sklearn.compose import ColumnTransformer\n",
    "\n",
    "\n",
    "lst = [['France', 44, 72000, 'No'], \n",
    "       ['Spain', 27, 54000, 'Yes'],\n",
    "       ['Germany', 30, 54000, 'No'],\n",
    "       ['Spain', 38, 61000, 'No'],\n",
    "       ['Germany', 40, , 'Yes'],\n",
    "       ['France', 35, 58000, 'Yes'],\n",
    "       ['Spain', , 28000, 'No'],\n",
    "       ['France', 48,798000, 'Yes'],\n",
    "       ['Germany', 50, 83000, 'No'],\n",
    "       ['France', 35, 58000, 'Yes'],\n",
    "       \n",
    "] \n",
    "\n",
    "df = pd.DataFrame(lst, columns =['Country', 'Age', 'Salary', 'Purchased'])\n",
    "\n",
    "\n",
    "\n",
    "## ------- Encode categorical data ------- ##\n",
    "\n",
    "# METHOD 1\n",
    "\n",
    "# Only suitable for binary categorical data (i.e. yes/no, hot/cold) \n",
    "# or relational categorical data (i.e. small, medium, large)\n",
    "\n",
    "\n",
    "\n",
    "\n",
    "\n",
    "# # label encoder create object \n",
    "# labelencoder_X = LabelEncoder()\n",
    "\n",
    "# # fit object to the data and replace categorical data\n",
    "# X[:,0]  = labelencoder_X.fit_transform(X[:,0])\n",
    "\n",
    "\n",
    "# METHOD 3 - help(ColumnTransformer)\n",
    "\n",
    "# Create object\n",
    "columntransformer = ColumnTransformer([('encoder', OneHotEncoder(), [0])], remainder='passthrough')\n",
    "\n",
    "#fit to data - simple method: \n",
    "X = columntransformer.fit_transform(X) \n",
    "#X = np.array(columntransformer.fit_transform(X), dtype = np.str) # to convert to string\n",
    "\n",
    "\n",
    "# DEPENDED VARIABLE\n",
    "# label encoder create object \n",
    "labelencoder_y = LabelEncoder()\n",
    "\n",
    "# fit object to the data and replace categorical data\n",
    "y  = labelencoder_y.fit_transform(y)\n"
   ]
  }
 ],
 "metadata": {
  "kernelspec": {
   "display_name": "Python 3",
   "language": "python",
   "name": "python3"
  },
  "language_info": {
   "codemirror_mode": {
    "name": "ipython",
    "version": 3
   },
   "file_extension": ".py",
   "mimetype": "text/x-python",
   "name": "python",
   "nbconvert_exporter": "python",
   "pygments_lexer": "ipython3",
   "version": "3.7.4"
  }
 },
 "nbformat": 4,
 "nbformat_minor": 2
}
