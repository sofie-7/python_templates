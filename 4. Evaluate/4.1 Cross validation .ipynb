{
 "cells": [
  {
   "cell_type": "markdown",
   "metadata": {},
   "source": [
    "**Cross validation**  \n",
    "\n",
    "Cross validation is a good technique to measure your model before showing it the test data set. The full training dataset is used, but then split further into k sets to train and test the model k times (i.e. split the training data 8 ways, where by an 1/8 is withheld and the model is trained on the remaining data then that 1/8 is used to test the model. Then the next 1/8 is withheld, to test the model etc. until you have 8 sets of results).  \n",
    "\n",
    "You can then check the accuracy/bias and variance of each of the results to gain a better understanding of your models performance. See https://medium.com/@mp32445/understanding-bias-variance-tradeoff-ca59a22e2a83"
   ]
  },
  {
   "cell_type": "code",
   "execution_count": null,
   "metadata": {},
   "outputs": [],
   "source": [
    "## ------- Cross validation ------- ##\n",
    "\n",
    "\n",
    "\n",
    "# TODO\n",
    "# split data first - then apply cross validation to the rest then test final with test set"
   ]
  }
 ],
 "metadata": {
  "kernelspec": {
   "display_name": "Python 3",
   "language": "python",
   "name": "python3"
  },
  "language_info": {
   "codemirror_mode": {
    "name": "ipython",
    "version": 3
   },
   "file_extension": ".py",
   "mimetype": "text/x-python",
   "name": "python",
   "nbconvert_exporter": "python",
   "pygments_lexer": "ipython3",
   "version": "3.7.4"
  }
 },
 "nbformat": 4,
 "nbformat_minor": 2
}
